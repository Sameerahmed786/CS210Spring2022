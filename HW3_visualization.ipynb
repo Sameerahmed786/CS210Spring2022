{
 "cells": [
  {
   "cell_type": "code",
   "execution_count": 2,
   "id": "c1612741-1bec-4ada-b807-db9c63bc3ff3",
   "metadata": {},
   "outputs": [],
   "source": [
    "import pandas as pd\n",
    "import numpy as np\n",
    "from pandas import DataFrame\n",
    "from matplotlib import pyplot as plt\n",
    "\n",
    "germanCredits = pd.read_csv('GermanCredit.csv')\n",
    "\n",
    "#Making subsets of the data\n",
    "savingsSubset = germanCredits.groupby(['savings_status', 'personal_status']).count().reset_index()\n",
    "checkingSubset = germanCredits.groupby(['checking_status', 'personal_status']).count().reset_index()"
   ]
  },
  {
   "cell_type": "code",
   "execution_count": 3,
   "id": "e670594a-628f-477f-981c-dd9a2a5f158c",
   "metadata": {},
   "outputs": [],
   "source": [
    "#Making tables for every personal status matching to savings and checking\n",
    "savingsSubset1 = savingsSubset[(savingsSubset['personal_status'] == 'female div/dep/mar')]\n",
    "savingsSubset2 = savingsSubset[(savingsSubset['personal_status'] == 'male div/sep')]\n",
    "savingsSubset3 = savingsSubset[(savingsSubset['personal_status'] == 'male mar/wid')]\n",
    "savingsSubset4 = savingsSubset[(savingsSubset['personal_status'] == 'male single')]\n",
    "\n",
    "checkingSubset1 = checkingSubset[(checkingSubset['personal_status'] == 'female div/dep/mar')]\n",
    "checkingSubset2 = checkingSubset[(checkingSubset['personal_status'] == 'male div/sep')] \n",
    "checkingSubset3 = checkingSubset[(checkingSubset['personal_status'] == 'male mar/wid')] \n",
    "checkingSubset4 = checkingSubset[(checkingSubset['personal_status'] == 'male single')] "
   ]
  },
  {
   "cell_type": "code",
   "execution_count": 4,
   "id": "7705e094-4308-437f-80f7-ed4726bd808a",
   "metadata": {},
   "outputs": [],
   "source": [
    "j = savingsSubset['savings_status'].unique()\n",
    "k = checkingSubset['checking_status'].unique()"
   ]
  },
  {
   "cell_type": "code",
   "execution_count": null,
   "id": "fe966cb4-ce9b-46cd-bfa1-f3d452b9bc61",
   "metadata": {},
   "outputs": [],
   "source": []
  }
 ],
 "metadata": {
  "kernelspec": {
   "display_name": "Python 3 (ipykernel)",
   "language": "python",
   "name": "python3"
  },
  "language_info": {
   "codemirror_mode": {
    "name": "ipython",
    "version": 3
   },
   "file_extension": ".py",
   "mimetype": "text/x-python",
   "name": "python",
   "nbconvert_exporter": "python",
   "pygments_lexer": "ipython3",
   "version": "3.9.7"
  }
 },
 "nbformat": 4,
 "nbformat_minor": 5
}
